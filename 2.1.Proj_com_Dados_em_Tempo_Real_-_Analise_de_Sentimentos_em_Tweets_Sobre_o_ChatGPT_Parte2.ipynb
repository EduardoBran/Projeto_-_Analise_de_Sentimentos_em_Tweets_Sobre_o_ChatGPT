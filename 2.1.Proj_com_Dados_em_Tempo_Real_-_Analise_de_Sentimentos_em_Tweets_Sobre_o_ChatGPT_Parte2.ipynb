{
 "cells": [
  {
   "cell_type": "markdown",
   "id": "6b9d5326",
   "metadata": {},
   "source": [
    "<span style=\"color: green; font-size: 40px; font-weight: bold;\">Projeto 2 (Dados em Tempo Real)</span>\n",
    "\n",
    "<br><br>\n",
    "\n",
    "# Análise de Sentimentos sobre o ChatGPT no Twitter\n",
    "\n",
    "<br><br><br><br>\n",
    "\n",
    "# <center>Instruções para executar o projeto</center>\n",
    "\n",
    "> É necessário que a célula da etapa `Criação do Kafka Producer e Envio de Dados para o Kafka` da **Parte 1** do projeto esteja rodando.\n",
    "\n",
    "<br><br><br>\n",
    "\n",
    "# Importando Pacotes\n",
    "\n",
    "<br>"
   ]
  },
  {
   "cell_type": "code",
   "execution_count": 2,
   "id": "6e94de95",
   "metadata": {},
   "outputs": [],
   "source": [
    "# Imports\n",
    "import re\n",
    "import os\n",
    "import time\n",
    "import random\n",
    "import pyspark\n",
    "import numpy as np\n",
    "import pandas as pd\n",
    "\n",
    "from pyspark.sql import SparkSession\n",
    "from pyspark.sql.functions import *\n",
    "from pyspark.ml.feature import Normalizer, StandardScaler\n",
    "\n",
    "import matplotlib.pyplot as plt\n",
    "import seaborn as sns\n",
    "import warnings\n",
    "warnings.filterwarnings(\"ignore\")\n",
    "\n",
    "# Análise de Sentimentos\n",
    "from vaderSentiment.vaderSentiment import SentimentIntensityAnalyzer # Análise de sentimentos baseada em regras"
   ]
  },
  {
   "cell_type": "code",
   "execution_count": 3,
   "id": "12275512-6d41-4bfa-af3f-375a1acea0d4",
   "metadata": {},
   "outputs": [
    {
     "name": "stdout",
     "output_type": "stream",
     "text": [
      "Author: Eduardo Brandão\n",
      "\n",
      "pandas    : 1.3.5\n",
      "seaborn   : 0.11.2\n",
      "numpy     : 1.22.4\n",
      "decimal   : 1.70\n",
      "sys       : 3.9.7 (default, Sep 16 2021, 13:09:58) \n",
      "[GCC 7.5.0]\n",
      "matplotlib: 3.4.3\n",
      "re        : 2.2.1\n",
      "pyspark   : 3.5.1\n",
      "\n"
     ]
    }
   ],
   "source": [
    "# Versões dos pacotes usados neste jupyter notebook\n",
    "%reload_ext watermark\n",
    "%watermark -a \"Eduardo Brandão\" --iversions"
   ]
  },
  {
   "cell_type": "markdown",
   "id": "9c58de67",
   "metadata": {},
   "source": [
    "<br><br>\n",
    "\n",
    "# <span style=\"color: green; font-size: 34px; font-weight: bold;\">1. Configuração do Kafka e Spark</span>"
   ]
  },
  {
   "cell_type": "code",
   "execution_count": 4,
   "id": "93e74a36",
   "metadata": {},
   "outputs": [
    {
     "name": "stdout",
     "output_type": "stream",
     "text": [
      "Etapa concluída.\n",
      "\n"
     ]
    }
   ],
   "source": [
    "# Endereço do servidor Kafka\n",
    "SERVER = 'localhost:9092'\n",
    "\n",
    "# Nome do tópico\n",
    "TOPIC = \"Analise_ChatGPT\"\n",
    "\n",
    "# Conectores do Spark para o Apache Kafka\n",
    "spark_jars =  (\"{},{},{},{},{}\".format(os.getcwd() + \"/jars/novas_versoes/spark-sql-kafka-0-10_2.12-3.5.1.jar\",  \n",
    "                                       os.getcwd() + \"/jars/novas_versoes/kafka-clients-3.5.1.jar\", \n",
    "                                       os.getcwd() + \"/jars/novas_versoes/spark-streaming-kafka-0-10-assembly_2.12-3.5.1.jar\", \n",
    "                                       os.getcwd() + \"/jars/novas_versoes/commons-pool2-2.11.0.jar\",  \n",
    "                                       os.getcwd() + \"/jars/novas_versoes/spark-token-provider-kafka-0-10_2.12-3.5.1.jar\"))\n",
    "\n",
    "print('Etapa concluída.\\n')"
   ]
  },
  {
   "cell_type": "code",
   "execution_count": 5,
   "id": "a1da835e",
   "metadata": {},
   "outputs": [
    {
     "name": "stdout",
     "output_type": "stream",
     "text": [
      "3.5.1\n"
     ]
    }
   ],
   "source": [
    "import pyspark\n",
    "print(pyspark.__version__)"
   ]
  },
  {
   "cell_type": "markdown",
   "id": "2548cc05",
   "metadata": {},
   "source": [
    "**Explicação**: Configura o endereço do servidor Kafka, o nome do tópico, e define os jars necessários para conectar o Spark ao Kafka. Para conectar o Spark Streaming no Apache Kafka precisamos de conectores (`jars`), que estão disponíveis através de arquivos .jar já incluso no projeto.\n",
    "\n",
    "<br><br><br>\n",
    "\n",
    "# <span style=\"color: green; font-size: 34px; font-weight: bold;\">2. Inicialização da Sessão Spark</span>"
   ]
  },
  {
   "cell_type": "code",
   "execution_count": 6,
   "id": "c03a6e24",
   "metadata": {},
   "outputs": [
    {
     "name": "stderr",
     "output_type": "stream",
     "text": [
      "24/09/23 18:23:57 WARN Utils: Your hostname, eduardo-Inspiron-15-3520 resolves to a loopback address: 127.0.1.1; using 192.168.0.13 instead (on interface wlp0s20f3)\n",
      "24/09/23 18:23:57 WARN Utils: Set SPARK_LOCAL_IP if you need to bind to another address\n",
      "24/09/23 18:23:58 WARN NativeCodeLoader: Unable to load native-hadoop library for your platform... using builtin-java classes where applicable\n",
      "Setting default log level to \"WARN\".\n",
      "To adjust logging level use sc.setLogLevel(newLevel). For SparkR, use setLogLevel(newLevel).\n"
     ]
    },
    {
     "name": "stdout",
     "output_type": "stream",
     "text": [
      "Etapa concluída.\n",
      "\n"
     ]
    }
   ],
   "source": [
    "# Inicializa sessão Spark\n",
    "spark = SparkSession \\\n",
    "        .builder \\\n",
    "        .config(\"spark.jars\", spark_jars) \\\n",
    "        .appName(\"Analise_de_Sentimentos_Tweet_ChatGPT\") \\\n",
    "        .getOrCreate()\n",
    "spark.sparkContext.setLogLevel(\"ERROR\")\n",
    "\n",
    "print('Etapa concluída.\\n')"
   ]
  },
  {
   "cell_type": "markdown",
   "id": "e973e03f",
   "metadata": {},
   "source": [
    "**Explicação**: Inicializa uma sessão Spark com os jars configurados, definindo o nome da aplicação e ajustando o nível de log.\n",
    "\n",
    "<br><br><br>\n",
    "\n",
    "# <span style=\"color: green; font-size: 34px; font-weight: bold;\">3. Leitura do Streaming de Dados do Kafka</span>\n",
    "\n",
    "Esta etapa é para `dados em tempo real`."
   ]
  },
  {
   "cell_type": "code",
   "execution_count": 7,
   "id": "ba04ae28",
   "metadata": {},
   "outputs": [
    {
     "name": "stdout",
     "output_type": "stream",
     "text": [
      "DataFrame[key: binary, value: binary, topic: string, partition: int, offset: bigint, timestamp: timestamp, timestampType: int]\n",
      "\n",
      "Etapa concluída.\n"
     ]
    }
   ],
   "source": [
    "# Usamos o Spark Streaming para leitura do streaming de dados do Kafka e salvamos em um dataframe\n",
    "df = spark \\\n",
    "        .readStream \\\n",
    "        .format(\"kafka\") \\\n",
    "        .option(\"kafka.bootstrap.servers\", SERVER) \\\n",
    "        .option(\"subscribe\", TOPIC) \\\n",
    "        .option(\"startingOffsets\", \"latest\") \\\n",
    "        .load()\n",
    "\n",
    "print(df)\n",
    "\n",
    "print('\\nEtapa concluída.')"
   ]
  },
  {
   "cell_type": "markdown",
   "id": "16fbff6d",
   "metadata": {},
   "source": [
    "**Explicação**: Lê o streaming de dados do Kafka, utilizando o Spark Streaming, e armazena em um DataFrame.\n",
    "\n",
    "#### Explicação mais detalhada:\n",
    "\n",
    "- **Parte 1**: Na parte 1 do projeto, foi criado um `Kafka Producer que envia mensagens (tweets) para um tópico Kafka (Analise_ChatGPT)`. Cada tweet representa uma mensagem e é enviada para o Kafka em formato de string.\n",
    "\n",
    "- **Parte 2**: O código na Parte 2, especificamente na seção de \"Leitura do Streaming de Dados do Kafka\", está utilizando o Spark Streaming para consumir essas mesmas mensagens que foram enviadas para o Kafka.\n",
    "\n",
    "<br>\n",
    "\n",
    "**Nota Importante**: Você pode seguir em frente com o projeto enquanto o Kafka Producer ainda está enviando os tweets na `Parte 1`. No entanto, se você prosseguir com o Spark Streaming antes que todas as músicas tenham sido enviadas, o sistema de recomendação funcionará apenas com as músicas que já foram enviadas até aquele momento, e não com o dataset completo. Além disso, não é necessário repetir esse processo de envio todas as vezes que rodar o projeto, a menos que deseje processar novos dados ou reiniciar todo o fluxo.\n",
    "\n",
    "<br><br><br>\n",
    "\n",
    "# <span style=\"color: green; font-size: 34px; font-weight: bold;\">4. Processamento e Transformação de Dados</span>"
   ]
  },
  {
   "cell_type": "code",
   "execution_count": 8,
   "id": "f6d87890",
   "metadata": {},
   "outputs": [
    {
     "name": "stdout",
     "output_type": "stream",
     "text": [
      "<class 'pyspark.sql.dataframe.DataFrame'>\n"
     ]
    }
   ],
   "source": [
    "# Selecionamos a coluna timestamp como string e salvamos em um novo dataframe\n",
    "df1 = df.selectExpr(\"CAST(value AS STRING)\", \"timestamp\")\n",
    "\n",
    "print(type(df1))"
   ]
  },
  {
   "cell_type": "markdown",
   "id": "00f4dd34",
   "metadata": {},
   "source": [
    "**Explicação**:\n",
    "\n",
    "- **Função**: Esta célula seleciona a coluna `value` do DataFrame `df`, que contém as mensagens do Kafka, e a converte de bytes para string usando o comando `CAST`. Isso é necessário porque as mensagens do Kafka são recebidas como bytes e precisam ser decodificadas para serem manipuladas.\n",
    "- **Resultado**: O resultado é um novo DataFrame `df1` que contém duas colunas: `value` (convertido para string) e `timestamp` (que registra o momento em que a mensagem foi recebida).\n",
    "\n",
    "<br>"
   ]
  },
  {
   "cell_type": "code",
   "execution_count": 9,
   "id": "e3bbbcd1",
   "metadata": {},
   "outputs": [
    {
     "data": {
      "text/plain": [
       "DataFrame[tweet: struct<Order_Id:int,Name:string,Likes:double,Views:double,Text:string,Timestamp:string>, timestamp: timestamp]"
      ]
     },
     "execution_count": 9,
     "metadata": {},
     "output_type": "execute_result"
    }
   ],
   "source": [
    "# Definimos o schema com o nome de cada coluna e o tipo de dado para os tweets\n",
    "def_schema = \"Order_Id INT, Name STRING, Likes DOUBLE, Views DOUBLE, \" \\\n",
    "             + \"Text STRING, Timestamp STRING\"\n",
    "\n",
    "# Selecionamos o streaming de dados de acordo com o schema e salvamos em um novo dataframe\n",
    "df2 = df1.select(from_csv(col(\"value\"), def_schema).alias(\"tweet\"), \"timestamp\")\n",
    "\n",
    "# Exibindo o novo DataFrame df2\n",
    "df2"
   ]
  },
  {
   "cell_type": "markdown",
   "id": "c59af8f8",
   "metadata": {},
   "source": [
    "**Explicação**:\n",
    "\n",
    "- **Função**: Primeiro, define o `def_schema`, que especifica o esquema (ou estrutura) dos dados dentro da coluna `value`. Isso inclui os nomes das colunas e seus respectivos tipos de dados.\n",
    "- **Conversão**: Em seguida, a célula aplica este esquema aos dados da coluna `value` do DataFrame `df1` usando a função `from_csv`. Esta função converte a string `value` em um conjunto de colunas estruturadas de acordo com o esquema definido.\n",
    "- **Resultado**: O novo DataFrame `df2` possui uma coluna `tweet`, que é uma estrutura (struct) contendo todas as colunas definidas no esquema, além da coluna `timestamp` que foi mantida. \n",
    "\n",
    "<br>"
   ]
  },
  {
   "cell_type": "code",
   "execution_count": 10,
   "id": "50981e1d",
   "metadata": {},
   "outputs": [
    {
     "name": "stdout",
     "output_type": "stream",
     "text": [
      "root\n",
      " |-- Order_Id: integer (nullable = true)\n",
      " |-- Name: string (nullable = true)\n",
      " |-- Likes: double (nullable = true)\n",
      " |-- Views: double (nullable = true)\n",
      " |-- Text: string (nullable = true)\n",
      " |-- Timestamp: string (nullable = true)\n",
      " |-- Kafka_Read_Timestamp: timestamp (nullable = true)\n",
      "\n"
     ]
    }
   ],
   "source": [
    "# Selecionamos todas as colunas do tweet e renomeamos o 'timestamp' do Kafka para 'Kafka_Read_Timestamp'\n",
    "df3 = df2.select(\"tweet.*\", col(\"timestamp\").alias(\"Kafka_Read_Timestamp\"))\n",
    "df3.createOrReplaceTempView(\"df3_View\")\n",
    "\n",
    "df3.printSchema()"
   ]
  },
  {
   "cell_type": "markdown",
   "id": "ccfa2483",
   "metadata": {},
   "source": [
    "**Explicação**:\n",
    "\n",
    "- **Função**: Nesta célula, o código desestrutura a coluna song em colunas individuais usando `select`, criando um novo DataFrame `df3` que contém todas as colunas da estrutura `tweet` mais a coluna `timestamp` que foi **renomeada** para `Kafka_Read_Timestamp`.\n",
    "- **View Temporária**: A célula então cria uma view temporária chamada `df3_View` na memória do Spark, permitindo que você faça consultas SQL diretamente sobre esses dados.\n",
    "- **Exibição do Schema**: Por fim, a função printSchema exibe a estrutura das colunas e seus tipos de dados no DataFrame `df3`, ajudando a confirmar que os dados foram corretamente transformados e estruturados.\n",
    "\n",
    "<br>\n",
    "\n",
    "**Resumo**: Transforma os dados do streaming em colunas estruturadas, define o schema, e cria uma view temporária para consultas SQL.\n",
    "\n",
    "<br><br><br>\n",
    "\n",
    "# <span style=\"color: green; font-size: 34px; font-weight: bold;\">5. Consulta e Visualização dos Dados em Tempo Real</span>\n",
    "\n",
    "<br>\n",
    "\n",
    "> Nesta seção, você configurará o Spark Streaming para consultar e visualizar os dados em `tempo real à medida que eles chegam do Kafka`.\n",
    "\n",
    "> Os dados só poderão ser `visualizados caso estejam sendo consumidos em tempo real no script da` **Parte 1** `deste projeto`.\n",
    "\n",
    "<br>\n",
    "\n",
    "### 5.1 Seleção dos Dados com os Tweets do Stream"
   ]
  },
  {
   "cell_type": "code",
   "execution_count": 11,
   "id": "6dadb92e",
   "metadata": {},
   "outputs": [
    {
     "name": "stdout",
     "output_type": "stream",
     "text": [
      "Dados selecionados.\n"
     ]
    }
   ],
   "source": [
    "# Selecionamos os dados com as músicas do stream\n",
    "tweets_stream = spark.sql(\"SELECT * FROM df3_View\")\n",
    "\n",
    "print('Dados selecionados.')"
   ]
  },
  {
   "cell_type": "markdown",
   "id": "eed3c561",
   "metadata": {},
   "source": [
    "**Explicação**:\n",
    "\n",
    "- **Função**: Esta linha executa uma consulta SQL no Spark para selecionar todos os dados da view temporária `df3_View` que foi criada anteriormente.\n",
    "- **Resultado**: O resultado é um DataFrame chamado `tweets_stream`, que contém todos os dados estruturados dos tweets que foram processadas e armazenadas na view `df3_View`.\n",
    "\n",
    "<br>\n",
    "\n",
    "### 5.2 Criação e Configuração do Stream de Dados no Spark Streaming"
   ]
  },
  {
   "cell_type": "code",
   "execution_count": 12,
   "id": "c2931699",
   "metadata": {},
   "outputs": [
    {
     "name": "stdout",
     "output_type": "stream",
     "text": [
      "Processo concluído.\n",
      "\n"
     ]
    }
   ],
   "source": [
    "# Parar todas as consultas de streaming ativas\n",
    "for stream in spark.streams.active:\n",
    "    stream.stop()\n",
    "\n",
    "# Criar o stream de dados no Spark Streaming com modo 'append'\n",
    "tweets_stream_spark = tweets_stream \\\n",
    "    .writeStream \\\n",
    "    .trigger(processingTime='2 seconds') \\\n",
    "    .outputMode(\"append\") \\\n",
    "    .option(\"truncate\", \"false\") \\\n",
    "    .format(\"memory\") \\\n",
    "    .queryName(\"tabela_spark\") \\\n",
    "    .start()\n",
    "\n",
    "print('Processo concluído.\\n')"
   ]
  },
  {
   "cell_type": "markdown",
   "id": "4a5f9f16",
   "metadata": {},
   "source": [
    "**Explicação**:\n",
    "\n",
    "- **Função Geral**: Este bloco de código configura e inicia um stream de dados usando Spark Streaming, que permite processar dados em tempo real.\n",
    "- **writeStream**: O método writeStream indica que você está criando um fluxo de saída (stream) a partir do DataFrame `tweets_stream`.\n",
    "- **trigger(processingTime = '5 seconds')**: Define o intervalo de tempo para processar novos dados. Neste caso, o Spark verificará novos dados a cada 5 segundos e os processará.\n",
    "- **outputMode(\"append\")**: Especifica que os novos dados serão adicionados ao stream existente sem substituir os dados anteriores. Ou seja, os dados novos são \"acrescentados\" ao final do stream.\n",
    "- **option(\"truncate\", \"false\")**: Esta opção evita que os dados sejam truncados quando exibidos no console ou armazenados na memória. Isso é útil para garantir que você veja todos os dados completos.\n",
    "- **format(\"memory\")**: Especifica que os dados do stream serão mantidos na memória, permitindo consultas rápidas. Esse é um formato útil para visualização e depuração de dados em tempo real.\n",
    "- **queryName(\"tabela_spark\")**: Define um nome para a consulta do stream. Isso cria uma tabela temporária chamada tabela_spark que pode ser consultada usando SQL enquanto o stream estiver ativo.\n",
    "- **start()**: Inicia o stream de dados. A partir deste ponto, o Spark começa a processar e armazenar os dados conforme eles chegam, de acordo com as configurações definidas.\n",
    "\n",
    "<br>\n",
    "\n",
    "### 5.3 Espera pela Terminação"
   ]
  },
  {
   "cell_type": "code",
   "execution_count": 13,
   "id": "a628867a",
   "metadata": {},
   "outputs": [
    {
     "name": "stderr",
     "output_type": "stream",
     "text": [
      "                                                                                \r"
     ]
    }
   ],
   "source": [
    "#tweets_stream_spark.awaitTermination(2)"
   ]
  },
  {
   "cell_type": "markdown",
   "id": "e3032bbf",
   "metadata": {},
   "source": [
    "**Explicação**:\n",
    "\n",
    "- **Função**: Este comando faz com que o código aguarde por 2 segundos a execução do stream antes de prosseguir.\n",
    "- **Uso Prático**: Isso é útil para permitir que o stream processe alguns dados iniciais e, ao mesmo tempo, dar ao desenvolvedor a oportunidade de ver o comportamento do stream de forma controlada.\n",
    "\n",
    "<br>\n",
    "\n",
    "### 5.4 Visualizando os Dados"
   ]
  },
  {
   "cell_type": "code",
   "execution_count": 31,
   "id": "8400beee",
   "metadata": {},
   "outputs": [
    {
     "name": "stdout",
     "output_type": "stream",
     "text": [
      "+--------+--------------------+------+--------+--------------------+--------------------+--------------------+\n",
      "|Order_Id|                Name| Likes|   Views|                Text|           Timestamp|Kafka_Read_Timestamp|\n",
      "+--------+--------------------+------+--------+--------------------+--------------------+--------------------+\n",
      "|       5|          SummerTime|  49.0|  1000.0|chatgpt magic int...|2024-09-12T01:21:...|2024-09-23 18:24:...|\n",
      "|       7|        Parul Gautam|  91.0| 25000.0|3 create review v...|2024-09-14T13:53:...|2024-09-23 18:24:...|\n",
      "|       8|         Poonam Soni|  74.0| 21000.0|5 create art chat...|2024-09-14T12:32:...|2024-09-23 18:24:...|\n",
      "|       9|        Arsalan Khan| 114.0| 15000.0|chatgpt prompts c...|2024-09-12T06:02:...|2024-09-23 18:24:...|\n",
      "|      10|  Benjamin De Kraker| 334.0|104000.0|seen post claimin...|2024-09-16T07:47:...|2024-09-23 18:24:...|\n",
      "|      11|              Nonini| 305.0| 13000.0|hi good people ch...|2024-09-11T16:44:...|2024-09-23 18:24:...|\n",
      "|      12|       Joe Rossignol| 120.0| 10000.0|we've seen hundre...|2024-09-11T19:38:...|2024-09-23 18:25:...|\n",
      "|      13|AI Notkilleveryon...| 261.0| 44000.0|cursed chatgpt sc...|2024-09-16T16:40:...|2024-09-23 18:25:...|\n",
      "|      14|             Rishabh|2000.0|239000.0|62 ai tools finis...|2024-09-12T12:31:...|2024-09-23 18:25:...|\n",
      "|      15|           Gasper C.| 198.0| 63000.0|chatgpt4o moneyma...|2024-09-12T08:17:...|2024-09-23 18:25:...|\n",
      "|      16|        ThePrimeagen|2000.0| 89000.0|copilot claude ch...|2024-09-13T13:19:...|2024-09-23 18:25:...|\n",
      "|      17|          Smoke-away| 128.0|  8000.0|   chatgpt auto mode|2024-09-17T18:30:...|2024-09-23 18:25:...|\n",
      "|      18|           Nelly R Q|3000.0|456000.0|chatgpt prompting...|2024-09-15T05:04:...|2024-09-23 18:25:...|\n",
      "|      19|        Random Doggy|1000.0| 27000.0|ran chatgpt using...|2024-09-18T08:06:...|2024-09-23 18:25:...|\n",
      "|      20|           Nelly R Q|  66.0|  6000.0|chatgpt writing i...|2024-09-18T11:05:...|2024-09-23 18:26:...|\n",
      "|      21|       Mushfiq Sajib|  58.0|  5000.0|chatgpt vs micros...|2024-09-18T11:03:...|2024-09-23 18:26:...|\n",
      "|      22|        Rowan Cheung|1000.0|281000.0|openai dropped ne...|2024-09-12T18:37:...|2024-09-23 18:26:...|\n",
      "|      23|        Ruben Hassid| 302.0| 80000.0|tested chatgpt5 o...|2024-09-12T17:21:...|2024-09-23 18:26:...|\n",
      "|      24|          Barry Wall|  60.0|  1000.0|truthhunter insta...|2024-09-12T08:20:...|2024-09-23 18:26:...|\n",
      "|      25|       Muhammad Ayan| 147.0| 16000.0|chatgpt 200 milli...|2024-09-14T17:19:...|2024-09-23 18:26:...|\n",
      "+--------+--------------------+------+--------+--------------------+--------------------+--------------------+\n",
      "only showing top 20 rows\n",
      "\n"
     ]
    }
   ],
   "source": [
    "# Selecionamos e Visualizando as músicas da tabela de stream do Spark\n",
    "spark_tweets = spark.sql(\"SELECT * FROM tabela_spark\")\n",
    "\n",
    "# Agora sim podemos visualizar o stream em tempo real como tabela do Spark\n",
    "spark_tweets.show()"
   ]
  },
  {
   "cell_type": "code",
   "execution_count": 32,
   "id": "83341706",
   "metadata": {},
   "outputs": [
    {
     "data": {
      "text/plain": [
       "47"
      ]
     },
     "execution_count": 32,
     "metadata": {},
     "output_type": "execute_result"
    }
   ],
   "source": [
    "# Contagem de músicas extraídas em tempo real\n",
    "spark_tweets.count()"
   ]
  },
  {
   "cell_type": "markdown",
   "id": "1d8eeb14",
   "metadata": {},
   "source": [
    "**Explicação**: Se o valor acima for **zero** significa que não estamos consumindo dados em tempo real no momento.\n",
    "\n",
    "<br><br><br>\n",
    "\n",
    "# <span style=\"color: green; font-size: 34px; font-weight: bold;\">6. Consulta e Visualização dos Dados em Modo Batch</span>\n",
    "\n",
    "> **Importante**: A `etapa 6` realiza as `etapas 3 e 4 em uma única célula`, pois combina a leitura dos dados do Kafka em modo batch (semelhante ao que é feito na etapa 5, que usa o Spark Streaming para ler os dados em tempo real) com o processamento e transformação dos dados (que foi feito na etapa 4 para estruturar e aplicar um schema).\n",
    "\n",
    "> Nesta seção, você configurará a leitura dos dados do Kafka em `modo batch, o que significa que todos os dados desde o início até o último offset disponível no Kafka serão lidos de uma vez`.\n",
    "\n",
    "<br>"
   ]
  },
  {
   "cell_type": "code",
   "execution_count": 33,
   "id": "a203e2cc",
   "metadata": {},
   "outputs": [
    {
     "name": "stdout",
     "output_type": "stream",
     "text": [
      "\n",
      "O DataFrame `spark_tweets` tem dados.\n",
      "\n"
     ]
    }
   ],
   "source": [
    "# Verificando\n",
    "if spark_tweets.count() == 0:\n",
    "    print(\"\\nO DataFrame `spark_tweets` está vazio. Vamos carregar os dados em modo batch.\\n\")\n",
    "    \n",
    "    # Configuração para leitura dos dados do Kafka em modo batch\n",
    "    df_batch = spark \\\n",
    "        .read \\\n",
    "        .format(\"kafka\") \\\n",
    "        .option(\"kafka.bootstrap.servers\", SERVER) \\\n",
    "        .option(\"subscribe\", TOPIC) \\\n",
    "        .option(\"startingOffsets\", \"earliest\") \\\n",
    "        .option(\"endingOffsets\", \"latest\") \\\n",
    "        .load()\n",
    "\n",
    "    # Converte os dados do Kafka (em bytes) para string e aplica o schema\n",
    "    df1_batch = df_batch.selectExpr(\"CAST(value AS STRING)\", \"timestamp\")\n",
    "\n",
    "    # Aplica o schema que você definiu anteriormente na etapa 4\n",
    "    df2_batch = df1_batch.select(from_csv(col(\"value\"), def_schema).alias(\"tweet\"), \"timestamp\")\n",
    "\n",
    "    # Seleciona as colunas estruturadas para visualizar\n",
    "    spark_tweets = df2_batch.select(\"tweet.*\", \"timestamp\")\n",
    "\n",
    "    # Visualiza os dados\n",
    "    spark_tweets.show(5, truncate=False)\n",
    "else:\n",
    "    print(\"\\nO DataFrame `spark_tweets` tem dados.\\n\")"
   ]
  },
  {
   "cell_type": "code",
   "execution_count": 34,
   "id": "943f372d",
   "metadata": {},
   "outputs": [
    {
     "name": "stdout",
     "output_type": "stream",
     "text": [
      "Colunas de `spark_tweets`:\n",
      "['Order_Id', 'Name', 'Likes', 'Views', 'Text', 'Timestamp', 'Kafka_Read_Timestamp']\n"
     ]
    }
   ],
   "source": [
    "# Exibe o nome das colunas do DataFrame `spark_songs`\n",
    "print(\"Colunas de `spark_tweets`:\")\n",
    "print(spark_tweets.columns)"
   ]
  },
  {
   "cell_type": "code",
   "execution_count": 35,
   "id": "5fb1d1d0",
   "metadata": {},
   "outputs": [
    {
     "name": "stdout",
     "output_type": "stream",
     "text": [
      "O DataFrame `spark_tweets` contém 47 linhas.\n"
     ]
    }
   ],
   "source": [
    "# Conta o número de linhas no DataFrame `spark_tweets`\n",
    "num_linhas = spark_tweets.count()\n",
    "\n",
    "# Exibe a quantidade de linhas\n",
    "print(f\"O DataFrame `spark_tweets` contém {num_linhas} linhas.\")"
   ]
  },
  {
   "cell_type": "markdown",
   "id": "3ef4c216",
   "metadata": {},
   "source": [
    "<br><br><br>\n",
    "\n",
    "# <span style=\"color: green; font-size: 34px; font-weight: bold;\">7. Análise Exploratória Inicial dos Dados</span>\n",
    "\n",
    "<br>\n",
    "\n",
    "### Criação de Função Para Análise Inicial"
   ]
  },
  {
   "cell_type": "code",
   "execution_count": 36,
   "id": "0ab0b99c",
   "metadata": {},
   "outputs": [
    {
     "name": "stdout",
     "output_type": "stream",
     "text": [
      "A função foi criada com sucesso.\n",
      "\n",
      "\n"
     ]
    }
   ],
   "source": [
    "def funcao_analise_inicial(df):\n",
    "    # Exibir o esquema do DataFrame\n",
    "    print(\"\\n\\n INFO \\n\\n\")\n",
    "    df.printSchema()\n",
    "\n",
    "    # Número total de registros\n",
    "    print(f\"\\nNúmero total de registros: {df.count()}\")\n",
    "    \n",
    "    # Verificar valores ausentes (ajustando para usar isnan apenas em colunas numéricas)\n",
    "    print(\"\\n\\nVerificando valores ausentes:\\n\")\n",
    "    \n",
    "    # Lista para armazenar expressões de verificação de valores ausentes\n",
    "    checks = []\n",
    "    \n",
    "    for coluna, tipo in df.dtypes:\n",
    "        if tipo in [\"double\", \"float\"]:  # isnan aplicado apenas a colunas numéricas\n",
    "            checks.append(count(when(col(coluna).isNull() | isnan(col(coluna)), coluna)).alias(coluna))\n",
    "        else:  # isNull aplicado a outros tipos de colunas\n",
    "            checks.append(count(when(col(coluna).isNull(), coluna)).alias(coluna))\n",
    "    \n",
    "    # Verifica e exibe valores ausentes\n",
    "    df_ausentes = df.select(checks)\n",
    "    df_ausentes.show()\n",
    "\n",
    "    # Verificar valores duplicados\n",
    "    num_linhas_duplicadas = df.count() - df.dropDuplicates().count()\n",
    "    porcentagem_linhas_duplicadas = (num_linhas_duplicadas / df.count()) * 100\n",
    "    print(f\"\\n\\nExistem valores duplicados: {num_linhas_duplicadas > 0}\")\n",
    "    if num_linhas_duplicadas > 0:\n",
    "        print(f\"Número de Linhas Duplicadas: {num_linhas_duplicadas}\")\n",
    "        print(f\"Porcentagem de Linhas Duplicadas: {porcentagem_linhas_duplicadas:.2f}%\")\n",
    "    else:\n",
    "        print(\"Nenhuma variável possui valores duplicados.\")\n",
    "\n",
    "    # Verificação de caracteres especiais\n",
    "    caracteres_especiais = re.compile('[@_!#$%^&*<>()?/\\\\|}{~:]')\n",
    "    colunas_com_caracteres_especiais = {}\n",
    "\n",
    "    # Iterar sobre colunas do tipo string\n",
    "    for coluna in df.columns:\n",
    "        if dict(df.dtypes)[coluna] == 'string':\n",
    "            contem_caracteres_especiais = df.filter(df[coluna].rlike('[@_!#$%^&*<>()?/\\\\|}{~:]')).count() > 0\n",
    "            if contem_caracteres_especiais:\n",
    "                indices_com_caracteres_especiais = df.filter(df[coluna].rlike('[@_!#$%^&*<>()?/\\\\|}{~:]')).select(coluna).rdd.map(lambda row: row[coluna]).collect()\n",
    "                colunas_com_caracteres_especiais[coluna] = indices_com_caracteres_especiais\n",
    "\n",
    "    # Exibe o resultado sobre caracteres especiais\n",
    "    print(\"\\n\\nExistem caracteres especiais nas colunas:\", bool(colunas_com_caracteres_especiais))\n",
    "    if colunas_com_caracteres_especiais:\n",
    "        print(\"\\nColunas com caracteres especiais:\")\n",
    "        for coluna, indices in colunas_com_caracteres_especiais.items():\n",
    "            print(f\"\\n Coluna [ {coluna} ]\")\n",
    "    else:\n",
    "        print(\"\\nNenhuma coluna possui caracteres especiais.\")\n",
    "\n",
    "print('A função foi criada com sucesso.\\n\\n')"
   ]
  },
  {
   "cell_type": "code",
   "execution_count": 37,
   "id": "ad9c9315",
   "metadata": {},
   "outputs": [
    {
     "name": "stdout",
     "output_type": "stream",
     "text": [
      "\n",
      "\n",
      " INFO \n",
      "\n",
      "\n",
      "root\n",
      " |-- Order_Id: integer (nullable = true)\n",
      " |-- Name: string (nullable = true)\n",
      " |-- Likes: double (nullable = true)\n",
      " |-- Views: double (nullable = true)\n",
      " |-- Text: string (nullable = true)\n",
      " |-- Timestamp: string (nullable = true)\n",
      " |-- Kafka_Read_Timestamp: timestamp (nullable = true)\n",
      "\n",
      "\n",
      "Número total de registros: 47\n",
      "\n",
      "\n",
      "Verificando valores ausentes:\n",
      "\n",
      "+--------+----+-----+-----+----+---------+--------------------+\n",
      "|Order_Id|Name|Likes|Views|Text|Timestamp|Kafka_Read_Timestamp|\n",
      "+--------+----+-----+-----+----+---------+--------------------+\n",
      "|       0|   0|    0|    0|   0|        0|                   0|\n",
      "+--------+----+-----+-----+----+---------+--------------------+\n",
      "\n",
      "\n",
      "\n",
      "Existem valores duplicados: False\n",
      "Nenhuma variável possui valores duplicados.\n",
      "\n",
      "\n",
      "Existem caracteres especiais nas colunas: True\n",
      "\n",
      "Colunas com caracteres especiais:\n",
      "\n",
      " Coluna [ Name ]\n",
      "\n",
      " Coluna [ Timestamp ]\n"
     ]
    }
   ],
   "source": [
    "# Chama a Função Analise inicial\n",
    "funcao_analise_inicial(spark_tweets)"
   ]
  },
  {
   "cell_type": "markdown",
   "id": "38fa3001",
   "metadata": {},
   "source": [
    "<br><br><br>\n",
    "\n",
    "# <span style=\"color: green; font-size: 34px; font-weight: bold;\">8. Aplicar Análise de Sentimentos com VADER</span>\n",
    "\n",
    "<br>\n",
    "\n",
    "#### Criando e Aplicando Função Para Aplicar a Análise de Sentimentos em Cada Tweet"
   ]
  },
  {
   "cell_type": "code",
   "execution_count": 38,
   "id": "d7734e77",
   "metadata": {},
   "outputs": [
    {
     "name": "stdout",
     "output_type": "stream",
     "text": [
      "+--------+--------------------+------+--------+--------------------+--------------------+--------------------+---------+\n",
      "|Order_Id|                Name| Likes|   Views|                Text|           Timestamp|Kafka_Read_Timestamp|Sentiment|\n",
      "+--------+--------------------+------+--------+--------------------+--------------------+--------------------+---------+\n",
      "|       5|          SummerTime|  49.0|  1000.0|chatgpt magic int...|2024-09-12T01:21:...|2024-09-23 18:24:...| Positive|\n",
      "|       7|        Parul Gautam|  91.0| 25000.0|3 create review v...|2024-09-14T13:53:...|2024-09-23 18:24:...| Positive|\n",
      "|       8|         Poonam Soni|  74.0| 21000.0|5 create art chat...|2024-09-14T12:32:...|2024-09-23 18:24:...| Positive|\n",
      "|       9|        Arsalan Khan| 114.0| 15000.0|chatgpt prompts c...|2024-09-12T06:02:...|2024-09-23 18:24:...| Negative|\n",
      "|      10|  Benjamin De Kraker| 334.0|104000.0|seen post claimin...|2024-09-16T07:47:...|2024-09-23 18:24:...| Negative|\n",
      "|      11|              Nonini| 305.0| 13000.0|hi good people ch...|2024-09-11T16:44:...|2024-09-23 18:24:...| Positive|\n",
      "|      12|       Joe Rossignol| 120.0| 10000.0|we've seen hundre...|2024-09-11T19:38:...|2024-09-23 18:25:...| Positive|\n",
      "|      13|AI Notkilleveryon...| 261.0| 44000.0|cursed chatgpt sc...|2024-09-16T16:40:...|2024-09-23 18:25:...| Negative|\n",
      "|      14|             Rishabh|2000.0|239000.0|62 ai tools finis...|2024-09-12T12:31:...|2024-09-23 18:25:...|  Neutral|\n",
      "|      15|           Gasper C.| 198.0| 63000.0|chatgpt4o moneyma...|2024-09-12T08:17:...|2024-09-23 18:25:...| Positive|\n",
      "|      16|        ThePrimeagen|2000.0| 89000.0|copilot claude ch...|2024-09-13T13:19:...|2024-09-23 18:25:...| Negative|\n",
      "|      17|          Smoke-away| 128.0|  8000.0|   chatgpt auto mode|2024-09-17T18:30:...|2024-09-23 18:25:...|  Neutral|\n",
      "|      18|           Nelly R Q|3000.0|456000.0|chatgpt prompting...|2024-09-15T05:04:...|2024-09-23 18:25:...| Negative|\n",
      "|      19|        Random Doggy|1000.0| 27000.0|ran chatgpt using...|2024-09-18T08:06:...|2024-09-23 18:25:...| Negative|\n",
      "|      20|           Nelly R Q|  66.0|  6000.0|chatgpt writing i...|2024-09-18T11:05:...|2024-09-23 18:26:...| Positive|\n",
      "|      21|       Mushfiq Sajib|  58.0|  5000.0|chatgpt vs micros...|2024-09-18T11:03:...|2024-09-23 18:26:...| Positive|\n",
      "|      22|        Rowan Cheung|1000.0|281000.0|openai dropped ne...|2024-09-12T18:37:...|2024-09-23 18:26:...| Positive|\n",
      "|      23|        Ruben Hassid| 302.0| 80000.0|tested chatgpt5 o...|2024-09-12T17:21:...|2024-09-23 18:26:...| Positive|\n",
      "|      24|          Barry Wall|  60.0|  1000.0|truthhunter insta...|2024-09-12T08:20:...|2024-09-23 18:26:...|  Neutral|\n",
      "|      25|       Muhammad Ayan| 147.0| 16000.0|chatgpt 200 milli...|2024-09-14T17:19:...|2024-09-23 18:26:...| Positive|\n",
      "+--------+--------------------+------+--------+--------------------+--------------------+--------------------+---------+\n",
      "only showing top 20 rows\n",
      "\n"
     ]
    }
   ],
   "source": [
    "# Inicializar o analisador de sentimentos VADER\n",
    "analyzer = SentimentIntensityAnalyzer()\n",
    "\n",
    "# Função para aplicar a análise de sentimentos em cada tweet\n",
    "def apply_vader(text):\n",
    "    \"\"\"\n",
    "    Recebe o texto de um tweet, calcula a pontuação de sentimento usando VADER\n",
    "    e retorna a classificação (positivo, neutro ou negativo).\n",
    "    \"\"\"\n",
    "    scores = analyzer.polarity_scores(text)  # Obter as pontuações de sentimento\n",
    "    compound = scores['compound']            # O \"compound\" é a pontuação geral de sentimento\n",
    "    \n",
    "    if compound >= 0.05:\n",
    "        return 'Positive'\n",
    "    elif compound <= -0.05:\n",
    "        return 'Negative'\n",
    "    else:\n",
    "        return 'Neutral'\n",
    "\n",
    "# Criar uma UDF (User Defined Function) para aplicar o VADER ao PySpark\n",
    "vader_udf = udf(apply_vader, StringType())\n",
    "\n",
    "# Aplicar a função de análise de sentimentos ao DataFrame Spark\n",
    "spark_tweets = spark_tweets.withColumn(\"Sentiment\", vader_udf(spark_tweets[\"Text\"]))\n",
    "\n",
    "# Verificar as primeiras linhas para confirmar a nova coluna\n",
    "spark_tweets.show()"
   ]
  },
  {
   "cell_type": "markdown",
   "id": "f45bd497",
   "metadata": {},
   "source": [
    "<br><br><br>\n",
    "\n",
    "# <span style=\"color: green; font-size: 34px; font-weight: bold;\">9. Visualização dos Resultados</span>\n",
    "\n",
    "<br>\n",
    "\n",
    "#### Criando Objeto Para Usar nos Gráficos"
   ]
  },
  {
   "cell_type": "code",
   "execution_count": 39,
   "id": "56cfec67",
   "metadata": {},
   "outputs": [
    {
     "name": "stdout",
     "output_type": "stream",
     "text": [
      "Etapa concluída.\n"
     ]
    }
   ],
   "source": [
    "# Contar a quantidade de tweets por tipo de sentimento\n",
    "sentiment_counts = spark_tweets.groupBy(\"Sentiment\").count().orderBy(\"count\", ascending=False)\n",
    "\n",
    "# Coletar os resultados para visualização em gráfico\n",
    "sentiment_counts_pandas = sentiment_counts.toPandas()\n",
    "\n",
    "print('Etapa concluída.')"
   ]
  },
  {
   "cell_type": "markdown",
   "id": "1dadb368",
   "metadata": {},
   "source": [
    "<br>\n",
    "\n",
    "#### Visualizando por Gráfico de Barras"
   ]
  },
  {
   "cell_type": "code",
   "execution_count": 40,
   "id": "3a965672",
   "metadata": {},
   "outputs": [
    {
     "data": {
      "image/png": "[encoded data removed]",
      "text/plain": [
       "<Figure size 720x432 with 1 Axes>"
      ]
     },
     "metadata": {},
     "output_type": "display_data"
    }
   ],
   "source": [
    "# Configurações globais de estilo para o gráfico\n",
    "sns.set_theme(style=\"whitegrid\", palette=\"deep\")\n",
    "\n",
    "# Definir cores específicas para cada sentimento\n",
    "custom_palette = {\n",
    "    'Positive': '#4CAF50',  # Verde para positivo\n",
    "    'Negative': '#F44336',  # Vermelho para negativo\n",
    "    'Neutral': '#9E9E9E'    # Cinza para neutro\n",
    "}\n",
    "\n",
    "# Tamanho do gráfico\n",
    "plt.figure(figsize=(10,6))\n",
    "\n",
    "# Plotar o gráfico de barras com cores personalizadas\n",
    "ax = sns.barplot(\n",
    "    x=sentiment_counts_pandas['Sentiment'], \n",
    "    y=sentiment_counts_pandas['count'], \n",
    "    palette=custom_palette,  # Aplicar a paleta de cores personalizada\n",
    "    edgecolor='black',\n",
    "    saturation=0.8\n",
    ")\n",
    "\n",
    "# Adicionar os valores no topo de cada barra\n",
    "for index, value in enumerate(sentiment_counts_pandas['count']):\n",
    "    ax.text(index, value + 0.5, f'{value:,}', ha='center', va='bottom', fontsize=12, fontweight='bold', color='black')\n",
    "\n",
    "# Melhorando a estética do gráfico\n",
    "plt.title('Distribuição de Sentimentos sobre o ChatGPT no Twitter', fontsize=18, fontweight='bold', color='navy', pad=20)\n",
    "plt.xlabel('Tipo de Sentimento', fontsize=14, labelpad=10)\n",
    "plt.ylabel('Quantidade de Tweets', fontsize=14, labelpad=10)\n",
    "plt.xticks(fontsize=12)\n",
    "plt.yticks(fontsize=12)\n",
    "\n",
    "# Removendo bordas desnecessárias\n",
    "sns.despine(left=True, bottom=True)\n",
    "\n",
    "# Ajustando espaçamento para que o gráfico não fique muito apertado\n",
    "plt.tight_layout()\n",
    "\n",
    "# Mostrar o gráfico\n",
    "plt.show()"
   ]
  },
  {
   "cell_type": "markdown",
   "id": "51c44b9e",
   "metadata": {},
   "source": [
    "<br>\n",
    "\n",
    "#### Visualizando por Gráfico de Linha (Line Plot) ao Longo do Tempo Gráfico de Barras"
   ]
  },
  {
   "cell_type": "code",
   "execution_count": 41,
   "id": "c4782b3d",
   "metadata": {},
   "outputs": [
    {
     "data": {
      "image/png": "[encoded data removed]",
      "text/plain": [
       "<Figure size 720x432 with 1 Axes>"
      ]
     },
     "metadata": {},
     "output_type": "display_data"
    }
   ],
   "source": [
    "# Convertendo a coluna Timestamp para formato de data\n",
    "spark_tweets_pandas = spark_tweets.toPandas()\n",
    "spark_tweets_pandas['Date'] = pd.to_datetime(spark_tweets_pandas['Timestamp']).dt.date\n",
    "\n",
    "# Contar o número de tweets por dia e por tipo de sentimento\n",
    "tweets_por_dia = spark_tweets_pandas.groupby(['Date', 'Sentiment']).size().unstack().fillna(0)\n",
    "\n",
    "# Plotar gráfico de linha para evolução dos sentimentos ao longo do tempo\n",
    "tweets_por_dia.plot(kind='line', figsize=(10, 6), linewidth=2.5)\n",
    "plt.title('Evolução dos Sentimentos sobre o ChatGPT ao Longo do Tempo', fontsize=18, fontweight='bold', color='navy', pad=20)\n",
    "plt.xlabel('Data', fontsize=14)\n",
    "plt.ylabel('Quantidade de Tweets', fontsize=14)\n",
    "plt.xticks(rotation=45)\n",
    "plt.legend(title='Sentimento', loc='upper left')\n",
    "plt.grid(True)\n",
    "plt.show()"
   ]
  },
  {
   "cell_type": "markdown",
   "id": "cf5dea27",
   "metadata": {},
   "source": [
    "<br>\n",
    "\n",
    "#### Visualizando por Gráfico de Histograma"
   ]
  },
  {
   "cell_type": "code",
   "execution_count": 42,
   "id": "c7ed06ad",
   "metadata": {},
   "outputs": [
    {
     "data": {
      "image/png": "[encoded data removed]",
      "text/plain": [
       "<Figure size 720x432 with 1 Axes>"
      ]
     },
     "metadata": {},
     "output_type": "display_data"
    }
   ],
   "source": [
    "# Plotar histogramas para quantidade de Likes e Views por sentimento\n",
    "plt.figure(figsize=(10, 6))\n",
    "sns.histplot(data=spark_tweets_pandas, x='Likes', hue='Sentiment', multiple='stack', palette=custom_palette, binwidth=100)\n",
    "plt.title('Distribuição de Likes por Sentimento', fontsize=18, fontweight='bold', color='navy', pad=20)\n",
    "plt.xlabel('Likes', fontsize=14)\n",
    "plt.ylabel('Quantidade de Tweets', fontsize=14)\n",
    "plt.show()"
   ]
  },
  {
   "cell_type": "markdown",
   "id": "f6106f53",
   "metadata": {},
   "source": [
    "<br>\n",
    "\n",
    "#### Visualizando por Gráfico de Dispersão (Scatter Plot)"
   ]
  },
  {
   "cell_type": "code",
   "execution_count": 43,
   "id": "bffe917f",
   "metadata": {},
   "outputs": [
    {
     "data": {
      "image/png": "[encoded data removed]",
      "text/plain": [
       "<Figure size 720x432 with 1 Axes>"
      ]
     },
     "metadata": {},
     "output_type": "display_data"
    },
    {
     "name": "stderr",
     "output_type": "stream",
     "text": [
      "\r",
      "[Stage 182:>                                                        (0 + 1) / 1]\r",
      "\r",
      "                                                                                \r"
     ]
    }
   ],
   "source": [
    "# Gráfico de dispersão Likes vs Views por sentimento\n",
    "plt.figure(figsize=(10, 6))\n",
    "sns.scatterplot(data=spark_tweets_pandas, x='Likes', y='Views', hue='Sentiment', style='Sentiment', palette=custom_palette, s=100)\n",
    "plt.title('Likes vs Views por Sentimento', fontsize=18, fontweight='bold', color='navy', pad=20)\n",
    "plt.xlabel('Likes', fontsize=14)\n",
    "plt.ylabel('Views', fontsize=14)\n",
    "plt.legend(title='Sentimento')\n",
    "plt.grid(True)\n",
    "plt.show()"
   ]
  },
  {
   "cell_type": "markdown",
   "id": "aacdb261",
   "metadata": {},
   "source": [
    "<br><br><br>\n",
    "\n",
    "# <span style=\"color: green; font-size: 34px; font-weight: bold;\">6. Conclusão</span>\n",
    "\n",
    "<br>\n",
    "\n",
    "#### Exibindo os Resultados"
   ]
  },
  {
   "cell_type": "code",
   "execution_count": 44,
   "id": "6117c78b",
   "metadata": {},
   "outputs": [
    {
     "name": "stdout",
     "output_type": "stream",
     "text": [
      "\n",
      "Contagem dos Sentimentos:\n",
      "+---------+-----+\n",
      "|Sentiment|count|\n",
      "+---------+-----+\n",
      "| Positive|   25|\n",
      "| Negative|   13|\n",
      "|  Neutral|   10|\n",
      "+---------+-----+\n",
      "\n",
      "\n",
      "O sentimento predominante sobre o ChatGPT é: Positive\n",
      "\n",
      "\n",
      "Porcentagem de cada sentimento:\n",
      "+---------+-----+------------------+\n",
      "|Sentiment|count|        percentage|\n",
      "+---------+-----+------------------+\n",
      "| Positive|   25|52.083333333333336|\n",
      "| Negative|   13|27.083333333333332|\n",
      "|  Neutral|   10|20.833333333333336|\n",
      "+---------+-----+------------------+\n",
      "\n"
     ]
    }
   ],
   "source": [
    "# Exibir a contagem dos tipos de sentimentos\n",
    "print(\"\\nContagem dos Sentimentos:\")\n",
    "sentiment_counts.show()\n",
    "\n",
    "# Conclusão sobre o sentimento predominante\n",
    "sentimento_predominante = sentiment_counts.orderBy(\"count\", ascending=False).first()[\"Sentiment\"]\n",
    "print(f\"\\nO sentimento predominante sobre o ChatGPT é: {sentimento_predominante.capitalize()}\")\n",
    "\n",
    "# Calcular a porcentagem de tweets para cada sentimento\n",
    "total_tweets = spark_tweets.count()\n",
    "sentiment_percentage = sentiment_counts.withColumn(\"percentage\", (sentiment_counts[\"count\"] / total_tweets) * 100)\n",
    "\n",
    "# Exibir a porcentagem de cada sentimento\n",
    "print(\"\\n\\nPorcentagem de cada sentimento:\")\n",
    "sentiment_percentage.show()"
   ]
  },
  {
   "cell_type": "markdown",
   "id": "05084897",
   "metadata": {},
   "source": [
    "<br><br><br>\n",
    "\n",
    "# <span style=\"color: green; font-size: 34px; font-weight: bold;\">6. Salvando os Resultados</span>\n",
    "\n",
    "<br>\n",
    "\n",
    "#### Salvando no PC"
   ]
  },
  {
   "cell_type": "code",
   "execution_count": 45,
   "id": "efee7e96",
   "metadata": {},
   "outputs": [
    {
     "name": "stdout",
     "output_type": "stream",
     "text": [
      "Todos os arquivos foram salvos com sucesso.\n",
      "\n"
     ]
    },
    {
     "name": "stderr",
     "output_type": "stream",
     "text": [
      "                                                                                \r"
     ]
    }
   ],
   "source": [
    "# Converter os DataFrames PySpark para Pandas\n",
    "spark_tweets_pandas = spark_tweets.toPandas()\n",
    "sentiment_counts_pandas = sentiment_counts.toPandas()\n",
    "\n",
    "# Defina o caminho da pasta onde deseja salvar os arquivos\n",
    "output_folder = \"resultados/\"\n",
    "\n",
    "# Salvar o DataFrame df_english como CSV\n",
    "spark_tweets_pandas.to_csv(f\"{output_folder}/tweets_sentiment_analysis_real_time_analytics.csv\", index=False)\n",
    "\n",
    "# Salvar o DataFrame sentiment_counts como CSV\n",
    "sentiment_counts_pandas.to_csv(f\"{output_folder}/sentiment_counts_real_time_analytics.csv\", index=False)\n",
    "\n",
    "# Salvar o DataFrame sentiment_percentage como CSV\n",
    "sentiment_percentage_pandas = sentiment_percentage.toPandas()\n",
    "sentiment_percentage_pandas.to_csv(f\"{output_folder}/sentiment_percentage_real_time_analytics.csv\", index=False)\n",
    "\n",
    "print('Todos os arquivos foram salvos com sucesso.\\n')"
   ]
  },
  {
   "cell_type": "markdown",
   "id": "4af17137",
   "metadata": {},
   "source": [
    "<br>\n",
    "\n",
    "# Fim!"
   ]
  }
 ],
 "metadata": {
  "kernelspec": {
   "display_name": "Python 3 (ipykernel)",
   "language": "python",
   "name": "python3"
  },
  "language_info": {
   "codemirror_mode": {
    "name": "ipython",
    "version": 3
   },
   "file_extension": ".py",
   "mimetype": "text/x-python",
   "name": "python",
   "nbconvert_exporter": "python",
   "pygments_lexer": "ipython3",
   "version": "3.9.7"
  }
 },
 "nbformat": 4,
 "nbformat_minor": 5
}
